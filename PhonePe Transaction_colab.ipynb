{
 "cells": [
  {
   "cell_type": "markdown",
   "metadata": {
    "id": "nSRTSZzXgWQi"
   },
   "source": [
    "# **Project Name**    -  PhonePe Transaction Insights\n",
    "\n"
   ]
  },
  {
   "cell_type": "markdown",
   "metadata": {
    "id": "06xZtNGhggl6"
   },
   "source": [
    "# **Project Summary -**\n",
    "With the growing adoption of digital payment platforms like PhonePe, analyzing transaction data has become crucial for driving informed business decisions. This project explores PhonePe's transaction trends across India to uncover patterns in user engagement, insurance penetration, and digital payment preferences.\n",
    "\n",
    "The aim is to transform raw JSON data from PhonePe into actionable insights through SQL analysis, Python-based processing, and interactive visualizations using Streamlit and Power BI. These insights are used to support business decision-making in areas such as marketing, product development, and regional expansion.\n"
   ]
  },
  {
   "cell_type": "markdown",
   "metadata": {
    "id": "V_hOMmc6hfCV"
   },
   "source": [
    "# **GitHub Link** - https://github.com/Farhaknight/PhonePe-Transactions.git "
   ]
  },
  {
   "cell_type": "markdown",
   "metadata": {
    "id": "74xjW21lhwLM"
   },
   "source": [
    "# **Problem Statement**\n",
    "\n",
    "**Objectives:**\n",
    "To Understand and analyze PhonePe transaction data to gain insights into user behaviour, market performance, and insurance penetration.\n",
    "\n",
    "**Challenges Addressed:**\n",
    "\n",
    "Growing digital payment usage, Need for better user targeting, Understanding geographical transaction dynamics, Improving product strategies and insurance performance"
   ]
  },
  {
   "cell_type": "code",
   "execution_count": 1,
   "metadata": {
    "id": "-SRGU5fKgXjb"
   },
   "outputs": [
    {
     "name": "stderr",
     "output_type": "stream",
     "text": [
      "fatal: destination path 'pulse' already exists and is not an empty directory.\n"
     ]
    }
   ],
   "source": [
    "!git clone https://github.com/PhonePe/pulse.git"
   ]
  },
  {
   "cell_type": "code",
   "execution_count": 2,
   "metadata": {
    "id": "dl9FbnJ7gPg6",
    "outputId": "2a257db5-6237-4d30-ff9d-f0ce5e30007d"
   },
   "outputs": [
    {
     "data": {
      "text/plain": [
       "['Andaman and Nicobar Islands',\n",
       " 'Andhra Pradesh',\n",
       " 'Arunachal Pradesh',\n",
       " 'Assam',\n",
       " 'Bihar',\n",
       " 'Chandigarh',\n",
       " 'Chhattisgarh',\n",
       " 'Dadra and Nagar Haveli and Daman and Diu',\n",
       " 'Delhi',\n",
       " 'Goa',\n",
       " 'Gujarat',\n",
       " 'Haryana',\n",
       " 'Himachal Pradesh',\n",
       " 'Jammu and Kashmir',\n",
       " 'Jharkhand',\n",
       " 'Karnataka',\n",
       " 'Kerala',\n",
       " 'Ladakh',\n",
       " 'Lakshadweep',\n",
       " 'Madhya Pradesh',\n",
       " 'Maharashtra',\n",
       " 'Manipur',\n",
       " 'Meghalaya',\n",
       " 'Mizoram',\n",
       " 'Nagaland',\n",
       " 'Odisha',\n",
       " 'Puducherry',\n",
       " 'Punjab',\n",
       " 'Rajasthan',\n",
       " 'Sikkim',\n",
       " 'Tamil Nadu',\n",
       " 'Telangana',\n",
       " 'Tripura',\n",
       " 'Uttar Pradesh',\n",
       " 'Uttarakhand',\n",
       " 'West Bengal']"
      ]
     },
     "execution_count": 2,
     "metadata": {},
     "output_type": "execute_result"
    }
   ],
   "source": [
    "import os\n",
    "path = r\"C:\\ProgramFiles\\Projects\\Phonepe_pulse\\Miscellaneous\\Pulse\\data\\aggregated\\insurance\\country\\india\\state\"\n",
    "Agg_state_list=os.listdir(path)\n",
    "Agg_state_list"
   ]
  },
  {
   "cell_type": "code",
   "execution_count": 3,
   "metadata": {
    "id": "bAll_isprpeQ"
   },
   "outputs": [],
   "source": [
    "#Once created the clone of GIT-HUB repository then,\n",
    "#Required libraries for the program\n",
    "\n",
    "import pandas as pd\n",
    "import json\n",
    "import os\n",
    "\n",
    "#This is to direct the path to get the data as states\n",
    "\n",
    "path = r\"C:/ProgramFiles/Projects/Phonepe_pulse/Miscellaneous/Pulse/data/aggregated/insurance/country/india/state/\"\n",
    "Agg_state_list=os.listdir(path)\n",
    "Agg_state_list\n",
    "#Agg_state_list--> to get the list of states in India\n",
    "\n",
    "#<------------------------------------------------------------------------------------------------------------------------------------------------------------------------------------------------------------>#\n",
    "\n",
    "#This is to extract the data's to create a dataframe\n",
    "\n",
    "clm={'State':[], 'Year':[],'Quater':[],'Transacion_type':[], 'Transacion_count':[], 'Transacion_amount':[]}\n",
    "\n",
    "for i in Agg_state_list:\n",
    "    p_i=path+i+\"/\"\n",
    "    Agg_yr=os.listdir(p_i)\n",
    "    for j in Agg_yr:\n",
    "        p_j=p_i+j+\"/\"\n",
    "        Agg_yr_list=os.listdir(p_j)\n",
    "        for k in Agg_yr_list:\n",
    "            p_k=p_j+k\n",
    "            Data=open(p_k,'r')\n",
    "            D=json.load(Data)\n",
    "            for z in D['data']['transactionData']:\n",
    "              Name=z['name']\n",
    "              count=z['paymentInstruments'][0]['count']\n",
    "              amount=z['paymentInstruments'][0]['amount']\n",
    "              clm['Transacion_type'].append(Name)\n",
    "              clm['Transacion_count'].append(count)\n",
    "              clm['Transacion_amount'].append(amount)\n",
    "              clm['State'].append(i)\n",
    "              clm['Year'].append(j)\n",
    "              clm['Quater'].append(int(k.strip('.json')))\n",
    "#Succesfully created a dataframe\n",
    "Agg_Insur=pd.DataFrame(clm)\n"
   ]
  },
  {
   "cell_type": "code",
   "execution_count": 4,
   "metadata": {
    "colab": {
     "base_uri": "https://localhost:8080/",
     "height": 423
    },
    "id": "cPt7laU7rpg3",
    "outputId": "1d5159a1-97ca-475f-c5b3-3e9be57f1d1c"
   },
   "outputs": [
    {
     "data": {
      "text/html": [
       "<div>\n",
       "<style scoped>\n",
       "    .dataframe tbody tr th:only-of-type {\n",
       "        vertical-align: middle;\n",
       "    }\n",
       "\n",
       "    .dataframe tbody tr th {\n",
       "        vertical-align: top;\n",
       "    }\n",
       "\n",
       "    .dataframe thead th {\n",
       "        text-align: right;\n",
       "    }\n",
       "</style>\n",
       "<table border=\"1\" class=\"dataframe\">\n",
       "  <thead>\n",
       "    <tr style=\"text-align: right;\">\n",
       "      <th></th>\n",
       "      <th>State</th>\n",
       "      <th>Year</th>\n",
       "      <th>Quater</th>\n",
       "      <th>Transacion_type</th>\n",
       "      <th>Transacion_count</th>\n",
       "      <th>Transacion_amount</th>\n",
       "    </tr>\n",
       "  </thead>\n",
       "  <tbody>\n",
       "    <tr>\n",
       "      <th>0</th>\n",
       "      <td>Andaman and Nicobar Islands</td>\n",
       "      <td>2020</td>\n",
       "      <td>2</td>\n",
       "      <td>Insurance</td>\n",
       "      <td>6</td>\n",
       "      <td>1360.0</td>\n",
       "    </tr>\n",
       "    <tr>\n",
       "      <th>1</th>\n",
       "      <td>Andaman and Nicobar Islands</td>\n",
       "      <td>2020</td>\n",
       "      <td>3</td>\n",
       "      <td>Insurance</td>\n",
       "      <td>41</td>\n",
       "      <td>15380.0</td>\n",
       "    </tr>\n",
       "    <tr>\n",
       "      <th>2</th>\n",
       "      <td>Andaman and Nicobar Islands</td>\n",
       "      <td>2020</td>\n",
       "      <td>4</td>\n",
       "      <td>Insurance</td>\n",
       "      <td>124</td>\n",
       "      <td>157975.0</td>\n",
       "    </tr>\n",
       "    <tr>\n",
       "      <th>3</th>\n",
       "      <td>Andaman and Nicobar Islands</td>\n",
       "      <td>2021</td>\n",
       "      <td>1</td>\n",
       "      <td>Insurance</td>\n",
       "      <td>225</td>\n",
       "      <td>244266.0</td>\n",
       "    </tr>\n",
       "    <tr>\n",
       "      <th>4</th>\n",
       "      <td>Andaman and Nicobar Islands</td>\n",
       "      <td>2021</td>\n",
       "      <td>2</td>\n",
       "      <td>Insurance</td>\n",
       "      <td>137</td>\n",
       "      <td>181504.0</td>\n",
       "    </tr>\n",
       "    <tr>\n",
       "      <th>...</th>\n",
       "      <td>...</td>\n",
       "      <td>...</td>\n",
       "      <td>...</td>\n",
       "      <td>...</td>\n",
       "      <td>...</td>\n",
       "      <td>...</td>\n",
       "    </tr>\n",
       "    <tr>\n",
       "      <th>677</th>\n",
       "      <td>West Bengal</td>\n",
       "      <td>2023</td>\n",
       "      <td>4</td>\n",
       "      <td>Insurance</td>\n",
       "      <td>72712</td>\n",
       "      <td>100365562.0</td>\n",
       "    </tr>\n",
       "    <tr>\n",
       "      <th>678</th>\n",
       "      <td>West Bengal</td>\n",
       "      <td>2024</td>\n",
       "      <td>1</td>\n",
       "      <td>Insurance</td>\n",
       "      <td>79576</td>\n",
       "      <td>104987909.0</td>\n",
       "    </tr>\n",
       "    <tr>\n",
       "      <th>679</th>\n",
       "      <td>West Bengal</td>\n",
       "      <td>2024</td>\n",
       "      <td>2</td>\n",
       "      <td>Insurance</td>\n",
       "      <td>67048</td>\n",
       "      <td>89476633.0</td>\n",
       "    </tr>\n",
       "    <tr>\n",
       "      <th>680</th>\n",
       "      <td>West Bengal</td>\n",
       "      <td>2024</td>\n",
       "      <td>3</td>\n",
       "      <td>Insurance</td>\n",
       "      <td>77158</td>\n",
       "      <td>107451766.0</td>\n",
       "    </tr>\n",
       "    <tr>\n",
       "      <th>681</th>\n",
       "      <td>West Bengal</td>\n",
       "      <td>2024</td>\n",
       "      <td>4</td>\n",
       "      <td>Insurance</td>\n",
       "      <td>91719</td>\n",
       "      <td>120602777.0</td>\n",
       "    </tr>\n",
       "  </tbody>\n",
       "</table>\n",
       "<p>682 rows × 6 columns</p>\n",
       "</div>"
      ],
      "text/plain": [
       "                           State  Year  Quater Transacion_type  \\\n",
       "0    Andaman and Nicobar Islands  2020       2       Insurance   \n",
       "1    Andaman and Nicobar Islands  2020       3       Insurance   \n",
       "2    Andaman and Nicobar Islands  2020       4       Insurance   \n",
       "3    Andaman and Nicobar Islands  2021       1       Insurance   \n",
       "4    Andaman and Nicobar Islands  2021       2       Insurance   \n",
       "..                           ...   ...     ...             ...   \n",
       "677                  West Bengal  2023       4       Insurance   \n",
       "678                  West Bengal  2024       1       Insurance   \n",
       "679                  West Bengal  2024       2       Insurance   \n",
       "680                  West Bengal  2024       3       Insurance   \n",
       "681                  West Bengal  2024       4       Insurance   \n",
       "\n",
       "     Transacion_count  Transacion_amount  \n",
       "0                   6             1360.0  \n",
       "1                  41            15380.0  \n",
       "2                 124           157975.0  \n",
       "3                 225           244266.0  \n",
       "4                 137           181504.0  \n",
       "..                ...                ...  \n",
       "677             72712        100365562.0  \n",
       "678             79576        104987909.0  \n",
       "679             67048         89476633.0  \n",
       "680             77158        107451766.0  \n",
       "681             91719        120602777.0  \n",
       "\n",
       "[682 rows x 6 columns]"
      ]
     },
     "execution_count": 4,
     "metadata": {},
     "output_type": "execute_result"
    }
   ],
   "source": [
    "Agg_Insur"
   ]
  },
  {
   "cell_type": "code",
   "execution_count": 5,
   "metadata": {
    "colab": {
     "base_uri": "https://localhost:8080/"
    },
    "id": "5Lz9r4WxXmz5",
    "outputId": "8d116f6e-7f79-45b1-98ff-79c2363f583b"
   },
   "outputs": [
    {
     "name": "stdout",
     "output_type": "stream",
     "text": [
      "CSV file 'Agg_Insur.csv' saved successfully!\n"
     ]
    }
   ],
   "source": [
    "# Save the DataFrame as a CSV file\n",
    "Agg_Insur.to_csv(\"Agg_Insur.csv\", index=False)\n",
    "\n",
    "print(\"CSV file 'Agg_Insur.csv' saved successfully!\")\n",
    "\n"
   ]
  },
  {
   "cell_type": "code",
   "execution_count": 6,
   "metadata": {
    "colab": {
     "base_uri": "https://localhost:8080/"
    },
    "id": "i3NsmvzTrpj0",
    "outputId": "5984431c-2155-4432-9f83-ed7b159a0f4b"
   },
   "outputs": [
    {
     "data": {
      "text/plain": [
       "['Andaman and Nicobar Islands',\n",
       " 'Andhra Pradesh',\n",
       " 'Arunachal Pradesh',\n",
       " 'Assam',\n",
       " 'Bihar',\n",
       " 'Chandigarh',\n",
       " 'Chhattisgarh',\n",
       " 'Dadra and Nagar Haveli and Daman and Diu',\n",
       " 'Delhi',\n",
       " 'Goa',\n",
       " 'Gujarat',\n",
       " 'Haryana',\n",
       " 'Himachal Pradesh',\n",
       " 'Jammu and Kashmir',\n",
       " 'Jharkhand',\n",
       " 'Karnataka',\n",
       " 'Kerala',\n",
       " 'Ladakh',\n",
       " 'Lakshadweep',\n",
       " 'Madhya Pradesh',\n",
       " 'Maharashtra',\n",
       " 'Manipur',\n",
       " 'Meghalaya',\n",
       " 'Mizoram',\n",
       " 'Nagaland',\n",
       " 'Odisha',\n",
       " 'Puducherry',\n",
       " 'Punjab',\n",
       " 'Rajasthan',\n",
       " 'Sikkim',\n",
       " 'Tamil Nadu',\n",
       " 'Telangana',\n",
       " 'Tripura',\n",
       " 'Uttar Pradesh',\n",
       " 'Uttarakhand',\n",
       " 'West Bengal']"
      ]
     },
     "execution_count": 6,
     "metadata": {},
     "output_type": "execute_result"
    }
   ],
   "source": [
    "#pulse/data/aggregated/transaction\n",
    "import os\n",
    "path = r\"C:/ProgramFiles/Projects/Phonepe_pulse/Miscellaneous/Pulse/data/aggregated/insurance/country/india/state/\"\n",
    "Agg_state_list=os.listdir(path)\n",
    "Agg_state_list"
   ]
  },
  {
   "cell_type": "code",
   "execution_count": 7,
   "metadata": {
    "id": "hJUSq70irpnd"
   },
   "outputs": [],
   "source": [
    "#Once created the clone of GIT-HUB repository then,\n",
    "#Required libraries for the program\n",
    "\n",
    "import pandas as pd\n",
    "import json\n",
    "import os\n",
    "\n",
    "#This is to direct the path to get the data as states\n",
    "\n",
    "path = r\"C:/ProgramFiles/Projects/Phonepe_pulse/Miscellaneous/Pulse/data/aggregated/insurance/country/india/state/\"\n",
    "Agg_state_list=os.listdir(path)\n",
    "Agg_state_list\n",
    "#Agg_state_list--> to get the list of states in India\n",
    "\n",
    "#<------------------------------------------------------------------------------------------------------------------------------------------------------------------------------------------------------------>#\n",
    "\n",
    "#This is to extract the data's to create a dataframe\n",
    "\n",
    "clm={'State':[], 'Year':[],'Quater':[],'Transacion_type':[], 'Transacion_count':[], 'Transacion_amount':[]}\n",
    "\n",
    "for i in Agg_state_list:\n",
    "    p_i=path+i+\"/\"\n",
    "    Agg_yr=os.listdir(p_i)\n",
    "    for j in Agg_yr:\n",
    "        p_j=p_i+j+\"/\"\n",
    "        Agg_yr_list=os.listdir(p_j)\n",
    "        for k in Agg_yr_list:\n",
    "            p_k=p_j+k\n",
    "            Data=open(p_k,'r')\n",
    "            D=json.load(Data)\n",
    "            for z in D['data']['transactionData']:\n",
    "              Name=z['name']\n",
    "              count=z['paymentInstruments'][0]['count']\n",
    "              amount=z['paymentInstruments'][0]['amount']\n",
    "              clm['Transacion_type'].append(Name)\n",
    "              clm['Transacion_count'].append(count)\n",
    "              clm['Transacion_amount'].append(amount)\n",
    "              clm['State'].append(i)\n",
    "              clm['Year'].append(j)\n",
    "              clm['Quater'].append(int(k.strip('.json')))\n",
    "#Succesfully created a dataframe\n",
    "Agg_Trans=pd.DataFrame(clm)\n"
   ]
  },
  {
   "cell_type": "code",
   "execution_count": 8,
   "metadata": {
    "colab": {
     "base_uri": "https://localhost:8080/",
     "height": 423
    },
    "id": "-oghE7GzEEt_",
    "outputId": "c95a8508-de78-49f2-eb67-bcde8f755513"
   },
   "outputs": [
    {
     "data": {
      "text/html": [
       "<div>\n",
       "<style scoped>\n",
       "    .dataframe tbody tr th:only-of-type {\n",
       "        vertical-align: middle;\n",
       "    }\n",
       "\n",
       "    .dataframe tbody tr th {\n",
       "        vertical-align: top;\n",
       "    }\n",
       "\n",
       "    .dataframe thead th {\n",
       "        text-align: right;\n",
       "    }\n",
       "</style>\n",
       "<table border=\"1\" class=\"dataframe\">\n",
       "  <thead>\n",
       "    <tr style=\"text-align: right;\">\n",
       "      <th></th>\n",
       "      <th>State</th>\n",
       "      <th>Year</th>\n",
       "      <th>Quater</th>\n",
       "      <th>Transacion_type</th>\n",
       "      <th>Transacion_count</th>\n",
       "      <th>Transacion_amount</th>\n",
       "    </tr>\n",
       "  </thead>\n",
       "  <tbody>\n",
       "    <tr>\n",
       "      <th>0</th>\n",
       "      <td>Andaman and Nicobar Islands</td>\n",
       "      <td>2020</td>\n",
       "      <td>2</td>\n",
       "      <td>Insurance</td>\n",
       "      <td>6</td>\n",
       "      <td>1360.0</td>\n",
       "    </tr>\n",
       "    <tr>\n",
       "      <th>1</th>\n",
       "      <td>Andaman and Nicobar Islands</td>\n",
       "      <td>2020</td>\n",
       "      <td>3</td>\n",
       "      <td>Insurance</td>\n",
       "      <td>41</td>\n",
       "      <td>15380.0</td>\n",
       "    </tr>\n",
       "    <tr>\n",
       "      <th>2</th>\n",
       "      <td>Andaman and Nicobar Islands</td>\n",
       "      <td>2020</td>\n",
       "      <td>4</td>\n",
       "      <td>Insurance</td>\n",
       "      <td>124</td>\n",
       "      <td>157975.0</td>\n",
       "    </tr>\n",
       "    <tr>\n",
       "      <th>3</th>\n",
       "      <td>Andaman and Nicobar Islands</td>\n",
       "      <td>2021</td>\n",
       "      <td>1</td>\n",
       "      <td>Insurance</td>\n",
       "      <td>225</td>\n",
       "      <td>244266.0</td>\n",
       "    </tr>\n",
       "    <tr>\n",
       "      <th>4</th>\n",
       "      <td>Andaman and Nicobar Islands</td>\n",
       "      <td>2021</td>\n",
       "      <td>2</td>\n",
       "      <td>Insurance</td>\n",
       "      <td>137</td>\n",
       "      <td>181504.0</td>\n",
       "    </tr>\n",
       "    <tr>\n",
       "      <th>...</th>\n",
       "      <td>...</td>\n",
       "      <td>...</td>\n",
       "      <td>...</td>\n",
       "      <td>...</td>\n",
       "      <td>...</td>\n",
       "      <td>...</td>\n",
       "    </tr>\n",
       "    <tr>\n",
       "      <th>677</th>\n",
       "      <td>West Bengal</td>\n",
       "      <td>2023</td>\n",
       "      <td>4</td>\n",
       "      <td>Insurance</td>\n",
       "      <td>72712</td>\n",
       "      <td>100365562.0</td>\n",
       "    </tr>\n",
       "    <tr>\n",
       "      <th>678</th>\n",
       "      <td>West Bengal</td>\n",
       "      <td>2024</td>\n",
       "      <td>1</td>\n",
       "      <td>Insurance</td>\n",
       "      <td>79576</td>\n",
       "      <td>104987909.0</td>\n",
       "    </tr>\n",
       "    <tr>\n",
       "      <th>679</th>\n",
       "      <td>West Bengal</td>\n",
       "      <td>2024</td>\n",
       "      <td>2</td>\n",
       "      <td>Insurance</td>\n",
       "      <td>67048</td>\n",
       "      <td>89476633.0</td>\n",
       "    </tr>\n",
       "    <tr>\n",
       "      <th>680</th>\n",
       "      <td>West Bengal</td>\n",
       "      <td>2024</td>\n",
       "      <td>3</td>\n",
       "      <td>Insurance</td>\n",
       "      <td>77158</td>\n",
       "      <td>107451766.0</td>\n",
       "    </tr>\n",
       "    <tr>\n",
       "      <th>681</th>\n",
       "      <td>West Bengal</td>\n",
       "      <td>2024</td>\n",
       "      <td>4</td>\n",
       "      <td>Insurance</td>\n",
       "      <td>91719</td>\n",
       "      <td>120602777.0</td>\n",
       "    </tr>\n",
       "  </tbody>\n",
       "</table>\n",
       "<p>682 rows × 6 columns</p>\n",
       "</div>"
      ],
      "text/plain": [
       "                           State  Year  Quater Transacion_type  \\\n",
       "0    Andaman and Nicobar Islands  2020       2       Insurance   \n",
       "1    Andaman and Nicobar Islands  2020       3       Insurance   \n",
       "2    Andaman and Nicobar Islands  2020       4       Insurance   \n",
       "3    Andaman and Nicobar Islands  2021       1       Insurance   \n",
       "4    Andaman and Nicobar Islands  2021       2       Insurance   \n",
       "..                           ...   ...     ...             ...   \n",
       "677                  West Bengal  2023       4       Insurance   \n",
       "678                  West Bengal  2024       1       Insurance   \n",
       "679                  West Bengal  2024       2       Insurance   \n",
       "680                  West Bengal  2024       3       Insurance   \n",
       "681                  West Bengal  2024       4       Insurance   \n",
       "\n",
       "     Transacion_count  Transacion_amount  \n",
       "0                   6             1360.0  \n",
       "1                  41            15380.0  \n",
       "2                 124           157975.0  \n",
       "3                 225           244266.0  \n",
       "4                 137           181504.0  \n",
       "..                ...                ...  \n",
       "677             72712        100365562.0  \n",
       "678             79576        104987909.0  \n",
       "679             67048         89476633.0  \n",
       "680             77158        107451766.0  \n",
       "681             91719        120602777.0  \n",
       "\n",
       "[682 rows x 6 columns]"
      ]
     },
     "execution_count": 8,
     "metadata": {},
     "output_type": "execute_result"
    }
   ],
   "source": [
    "Agg_Trans"
   ]
  },
  {
   "cell_type": "code",
   "execution_count": 9,
   "metadata": {
    "colab": {
     "base_uri": "https://localhost:8080/"
    },
    "id": "k0nGdf8vaF_V",
    "outputId": "5d28f56e-ede0-4a7a-dd9b-f90b128fa69e"
   },
   "outputs": [
    {
     "name": "stdout",
     "output_type": "stream",
     "text": [
      "CSV file 'Agg_Trans.csv' saved successfully!\n"
     ]
    }
   ],
   "source": [
    "# Save the DataFrame as a CSV file\n",
    "Agg_Trans.to_csv(\"Agg_Trans.csv\", index=False)\n",
    "\n",
    "print(\"CSV file 'Agg_Trans.csv' saved successfully!\")\n"
   ]
  },
  {
   "cell_type": "code",
   "execution_count": 10,
   "metadata": {
    "colab": {
     "base_uri": "https://localhost:8080/"
    },
    "id": "_wTAPtv8EE_r",
    "outputId": "0cd82027-6440-4d54-89c4-b0410fbe72cd"
   },
   "outputs": [
    {
     "data": {
      "text/plain": [
       "['Andaman and Nicobar Islands',\n",
       " 'Andhra Pradesh',\n",
       " 'Arunachal Pradesh',\n",
       " 'Assam',\n",
       " 'Bihar',\n",
       " 'Chandigarh',\n",
       " 'Chhattisgarh',\n",
       " 'Dadra and Nagar Haveli and Daman and Diu',\n",
       " 'Delhi',\n",
       " 'Goa',\n",
       " 'Gujarat',\n",
       " 'Haryana',\n",
       " 'Himachal Pradesh',\n",
       " 'Jammu and Kashmir',\n",
       " 'Jharkhand',\n",
       " 'Karnataka',\n",
       " 'Kerala',\n",
       " 'Ladakh',\n",
       " 'Lakshadweep',\n",
       " 'Madhya Pradesh',\n",
       " 'Maharashtra',\n",
       " 'Manipur',\n",
       " 'Meghalaya',\n",
       " 'Mizoram',\n",
       " 'Nagaland',\n",
       " 'Odisha',\n",
       " 'Puducherry',\n",
       " 'Punjab',\n",
       " 'Rajasthan',\n",
       " 'Sikkim',\n",
       " 'Tamil Nadu',\n",
       " 'Telangana',\n",
       " 'Tripura',\n",
       " 'Uttar Pradesh',\n",
       " 'Uttarakhand',\n",
       " 'West Bengal']"
      ]
     },
     "execution_count": 10,
     "metadata": {},
     "output_type": "execute_result"
    }
   ],
   "source": [
    "#pulse/data/aggregated/user\n",
    "import os\n",
    "path = r\"C:/ProgramFiles/Projects/Phonepe_pulse/Miscellaneous/Pulse/data/aggregated/insurance/country/india/state/\"\n",
    "Agg_state_list=os.listdir(path)\n",
    "Agg_state_list"
   ]
  },
  {
   "cell_type": "code",
   "execution_count": 11,
   "metadata": {
    "id": "NwAmW05X4tkA"
   },
   "outputs": [],
   "source": [
    "import pandas as pd\n",
    "import json\n",
    "import os\n",
    "\n",
    "# Define the path to the data directory\n",
    "path = r\"C:/ProgramFiles/Projects/Phonepe_pulse/Miscellaneous/Pulse/data/aggregated/insurance/country/india/state/\"\n",
    "Agg_state_list = os.listdir(path)\n",
    "\n",
    "# Dictionary to store extracted data\n",
    "clm = {'State': [], 'Year': [], 'Quarter': [], 'Brand': [], 'Registered_Users': [], 'App_Opens': [], 'Total_Registered_Users': [], 'Total_App_Opens': []}\n",
    "\n",
    "# Extracting data to create a dataframe\n",
    "for i in Agg_state_list:\n",
    "    p_i = path + i + \"/\"\n",
    "    Agg_yr = os.listdir(p_i)\n",
    "    for j in Agg_yr:\n",
    "        p_j = p_i + j + \"/\"\n",
    "        Agg_yr_list = os.listdir(p_j)\n",
    "        for k in Agg_yr_list:\n",
    "            p_k = p_j + k\n",
    "            with open(p_k, 'r') as Data:\n",
    "                D = json.load(Data)\n",
    "\n",
    "                # Check if 'aggregated' exists and is not None\n",
    "                if 'aggregated' not in D['data'] or D['data']['aggregated'] is None:\n",
    "                    continue  # Skip this file if no aggregated data\n",
    "\n",
    "                total_registered_users = D['data']['aggregated'].get('registeredUsers', 0)\n",
    "                total_app_opens = D['data']['aggregated'].get('appOpens', 0)\n",
    "\n",
    "                if 'usersByDevice' in D['data'] and D['data']['usersByDevice'] is not None:\n",
    "                    for z in D['data']['usersByDevice']:\n",
    "                        clm['Brand'].append(z['brand'])\n",
    "                        clm['Registered_Users'].append(z['count'])\n",
    "                        clm['App_Opens'].append(total_app_opens)\n",
    "                        clm['State'].append(i)\n",
    "                        clm['Year'].append(j)\n",
    "                        clm['Quarter'].append(int(k.strip('.json')))\n",
    "                        clm['Total_Registered_Users'].append(total_registered_users)\n",
    "                        clm['Total_App_Opens'].append(total_app_opens)\n",
    "\n",
    "# Successfully created a dataframe\n",
    "Agg_Users = pd.DataFrame(clm)\n"
   ]
  },
  {
   "cell_type": "code",
   "execution_count": 12,
   "metadata": {
    "colab": {
     "base_uri": "https://localhost:8080/",
     "height": 443
    },
    "id": "oJ7HdiNE6Gyz",
    "outputId": "c0837347-bb79-417a-d6ba-1018fae92638"
   },
   "outputs": [
    {
     "data": {
      "text/html": [
       "<div>\n",
       "<style scoped>\n",
       "    .dataframe tbody tr th:only-of-type {\n",
       "        vertical-align: middle;\n",
       "    }\n",
       "\n",
       "    .dataframe tbody tr th {\n",
       "        vertical-align: top;\n",
       "    }\n",
       "\n",
       "    .dataframe thead th {\n",
       "        text-align: right;\n",
       "    }\n",
       "</style>\n",
       "<table border=\"1\" class=\"dataframe\">\n",
       "  <thead>\n",
       "    <tr style=\"text-align: right;\">\n",
       "      <th></th>\n",
       "      <th>State</th>\n",
       "      <th>Year</th>\n",
       "      <th>Quarter</th>\n",
       "      <th>Brand</th>\n",
       "      <th>Registered_Users</th>\n",
       "      <th>App_Opens</th>\n",
       "      <th>Total_Registered_Users</th>\n",
       "      <th>Total_App_Opens</th>\n",
       "    </tr>\n",
       "  </thead>\n",
       "  <tbody>\n",
       "  </tbody>\n",
       "</table>\n",
       "</div>"
      ],
      "text/plain": [
       "Empty DataFrame\n",
       "Columns: [State, Year, Quarter, Brand, Registered_Users, App_Opens, Total_Registered_Users, Total_App_Opens]\n",
       "Index: []"
      ]
     },
     "execution_count": 12,
     "metadata": {},
     "output_type": "execute_result"
    }
   ],
   "source": [
    "Agg_Users"
   ]
  },
  {
   "cell_type": "code",
   "execution_count": 13,
   "metadata": {
    "id": "s7ku6IuWSQoL"
   },
   "outputs": [],
   "source": [
    "import json\n",
    "import os\n",
    "import pandas as pd\n",
    "\n",
    "# This is to extract the data and create a DataFrame\n",
    "path = r\"C:/ProgramFiles/Projects/Phonepe_pulse/Miscellaneous/Pulse/data/aggregated/insurance/country/india/state/\"\n",
    "Agg_state_list = os.listdir(path)  # List of states in India\n",
    "\n",
    "clm = {'State': [], 'Year': [], 'Quater': [], 'User_Brand': [], 'User_Count': [], 'User_Percentage': []}\n",
    "\n",
    "for i in Agg_state_list:\n",
    "    state_path = os.path.join(path, i)\n",
    "    for year in os.listdir(state_path):\n",
    "        year_path = os.path.join(state_path, year)\n",
    "        for quarter_file in os.listdir(year_path):\n",
    "            file_path = os.path.join(year_path, quarter_file)\n",
    "            try:\n",
    "                with open(file_path, 'r') as Data:\n",
    "                    D = json.load(Data)\n",
    "                    users_by_device = D.get('data', {}).get('usersByDevice', [])\n",
    "\n",
    "                    if users_by_device:\n",
    "                        for device in users_by_device:\n",
    "                            clm['State'].append(i)\n",
    "                            clm['Year'].append(year)\n",
    "                            clm['Quater'].append(int(quarter_file.replace('.json', '')))\n",
    "                            clm['User_Brand'].append(device.get('brand', 'Unknown'))\n",
    "                            clm['User_Count'].append(device.get('count', 0))\n",
    "                            clm['User_Percentage'].append(device.get('percentage', 0.0))\n",
    "\n",
    "            except (KeyError, json.JSONDecodeError, TypeError) as e:\n",
    "                print(f\"Error processing file {file_path}: {e}\")\n",
    "                clm['State'].append(i)\n",
    "                clm['Year'].append(year)\n",
    "                clm['Quater'].append(int(quarter_file.replace('.json', '')))\n",
    "                clm['User_Brand'].append(None)\n",
    "                clm['User_Count'].append(0)\n",
    "                clm['User_Percentage'].append(0.0)\n",
    "\n",
    "# Successfully created a DataFrame\n",
    "Agg_Users = pd.DataFrame(clm)"
   ]
  },
  {
   "cell_type": "code",
   "execution_count": 14,
   "metadata": {
    "colab": {
     "base_uri": "https://localhost:8080/",
     "height": 423
    },
    "id": "CmP3QRiMSQsQ",
    "outputId": "3fb389d7-4d1b-415b-9b44-0d0282e38bab"
   },
   "outputs": [
    {
     "data": {
      "text/html": [
       "<div>\n",
       "<style scoped>\n",
       "    .dataframe tbody tr th:only-of-type {\n",
       "        vertical-align: middle;\n",
       "    }\n",
       "\n",
       "    .dataframe tbody tr th {\n",
       "        vertical-align: top;\n",
       "    }\n",
       "\n",
       "    .dataframe thead th {\n",
       "        text-align: right;\n",
       "    }\n",
       "</style>\n",
       "<table border=\"1\" class=\"dataframe\">\n",
       "  <thead>\n",
       "    <tr style=\"text-align: right;\">\n",
       "      <th></th>\n",
       "      <th>State</th>\n",
       "      <th>Year</th>\n",
       "      <th>Quater</th>\n",
       "      <th>User_Brand</th>\n",
       "      <th>User_Count</th>\n",
       "      <th>User_Percentage</th>\n",
       "    </tr>\n",
       "  </thead>\n",
       "  <tbody>\n",
       "  </tbody>\n",
       "</table>\n",
       "</div>"
      ],
      "text/plain": [
       "Empty DataFrame\n",
       "Columns: [State, Year, Quater, User_Brand, User_Count, User_Percentage]\n",
       "Index: []"
      ]
     },
     "execution_count": 14,
     "metadata": {},
     "output_type": "execute_result"
    }
   ],
   "source": [
    "Agg_Users"
   ]
  },
  {
   "cell_type": "code",
   "execution_count": 15,
   "metadata": {
    "colab": {
     "base_uri": "https://localhost:8080/"
    },
    "id": "PWY2bdrZ6-OG",
    "outputId": "2aaa86e5-61ba-427b-92dd-67e8f91bfc4a"
   },
   "outputs": [
    {
     "name": "stdout",
     "output_type": "stream",
     "text": [
      "                         State  Year  Quarter Brand  Registered_Users  \\\n",
      "0  Andaman and Nicobar Islands  2020        2  None                 0   \n",
      "1  Andaman and Nicobar Islands  2020        3  None                 0   \n",
      "2  Andaman and Nicobar Islands  2020        4  None                 0   \n",
      "3  Andaman and Nicobar Islands  2021        1  None                 0   \n",
      "4  Andaman and Nicobar Islands  2021        2  None                 0   \n",
      "\n",
      "   App_Opens  Total_Registered_Users  Total_App_Opens  User_Percentage  \n",
      "0          0                       0                0              0.0  \n",
      "1          0                       0                0              0.0  \n",
      "2          0                       0                0              0.0  \n",
      "3          0                       0                0              0.0  \n",
      "4          0                       0                0              0.0  \n"
     ]
    }
   ],
   "source": [
    "import os\n",
    "import json\n",
    "import pandas as pd\n",
    "\n",
    "# Define the path to the data directory\n",
    "path = r\"C:/ProgramFiles/Projects/Phonepe_pulse/Miscellaneous/Pulse/data/aggregated/insurance/country/india/state/\"\n",
    "Agg_state_list = os.listdir(path)\n",
    "\n",
    "# Dictionary to store extracted data\n",
    "clm = {\n",
    "    'State': [], 'Year': [], 'Quarter': [], 'Brand': [], 'Registered_Users': [], 'App_Opens': [],\n",
    "    'Total_Registered_Users': [], 'Total_App_Opens': [], 'User_Percentage': []\n",
    "}\n",
    "\n",
    "# Extracting data to create a dataframe\n",
    "for state in Agg_state_list:\n",
    "    state_path = os.path.join(path, state)\n",
    "    for year in os.listdir(state_path):\n",
    "        year_path = os.path.join(state_path, year)\n",
    "        for quarter_file in os.listdir(year_path):\n",
    "            file_path = os.path.join(year_path, quarter_file)\n",
    "            try:\n",
    "                with open(file_path, 'r') as Data:\n",
    "                    D = json.load(Data)\n",
    "                    total_registered_users = D.get('data', {}).get('aggregated', {}).get('registeredUsers', 0)\n",
    "                    total_app_opens = D.get('data', {}).get('aggregated', {}).get('appOpens', 0)\n",
    "                    users_by_device = D.get('data', {}).get('usersByDevice', [])\n",
    "\n",
    "                    if users_by_device:\n",
    "                        for device in users_by_device:\n",
    "                            clm['State'].append(state)\n",
    "                            clm['Year'].append(year)\n",
    "                            clm['Quarter'].append(int(quarter_file.replace('.json', '')))\n",
    "                            clm['Brand'].append(device.get('brand', 'Unknown'))\n",
    "                            clm['Registered_Users'].append(device.get('count', 0))\n",
    "                            clm['App_Opens'].append(total_app_opens)\n",
    "                            clm['Total_Registered_Users'].append(total_registered_users)\n",
    "                            clm['Total_App_Opens'].append(total_app_opens)\n",
    "                            clm['User_Percentage'].append(device.get('percentage', 0.0))\n",
    "                    else:\n",
    "                        clm['State'].append(state)\n",
    "                        clm['Year'].append(year)\n",
    "                        clm['Quarter'].append(int(quarter_file.replace('.json', '')))\n",
    "                        clm['Brand'].append(None)\n",
    "                        clm['Registered_Users'].append(0)\n",
    "                        clm['App_Opens'].append(0)\n",
    "                        clm['Total_Registered_Users'].append(0)\n",
    "                        clm['Total_App_Opens'].append(0)\n",
    "                        clm['User_Percentage'].append(0.0)\n",
    "            except (KeyError, json.JSONDecodeError, TypeError) as e:\n",
    "                print(f\"Error processing file {file_path}: {e}\")\n",
    "                clm['State'].append(state)\n",
    "                clm['Year'].append(year)\n",
    "                clm['Quarter'].append(int(quarter_file.replace('.json', '')))\n",
    "                clm['Brand'].append(None)\n",
    "                clm['Registered_Users'].append(0)\n",
    "                clm['App_Opens'].append(0)\n",
    "                clm['Total_Registered_Users'].append(0)\n",
    "                clm['Total_App_Opens'].append(0)\n",
    "                clm['User_Percentage'].append(0.0)\n",
    "\n",
    "# Successfully created a DataFrame\n",
    "Agg_Users = pd.DataFrame(clm)\n",
    "print(Agg_Users.head())\n",
    "\n"
   ]
  },
  {
   "cell_type": "code",
   "execution_count": 16,
   "metadata": {
    "colab": {
     "base_uri": "https://localhost:8080/"
    },
    "id": "kSeb3WIKa3Zn",
    "outputId": "68238407-3083-4347-8067-5162ca5de5f6"
   },
   "outputs": [
    {
     "name": "stdout",
     "output_type": "stream",
     "text": [
      "CSV file 'Agg_Users.csv' saved successfully!\n"
     ]
    }
   ],
   "source": [
    "# Save the DataFrame as a CSV file\n",
    "Agg_Users.to_csv(\"Agg_Users.csv\", index=False)\n",
    "\n",
    "print(\"CSV file 'Agg_Users.csv' saved successfully!\")\n"
   ]
  },
  {
   "cell_type": "code",
   "execution_count": 17,
   "metadata": {
    "colab": {
     "base_uri": "https://localhost:8080/"
    },
    "id": "1lciHTopSQv4",
    "outputId": "4bb3efaf-5f31-4aa9-b4af-56a2609533ec"
   },
   "outputs": [
    {
     "data": {
      "text/plain": [
       "['Andaman and Nicobar Islands',\n",
       " 'Andhra Pradesh',\n",
       " 'Arunachal Pradesh',\n",
       " 'Assam',\n",
       " 'Bihar',\n",
       " 'Chandigarh',\n",
       " 'Chhattisgarh',\n",
       " 'Dadra and Nagar Haveli and Daman and Diu',\n",
       " 'Delhi',\n",
       " 'Goa',\n",
       " 'Gujarat',\n",
       " 'Haryana',\n",
       " 'Himachal Pradesh',\n",
       " 'Jammu and Kashmir',\n",
       " 'Jharkhand',\n",
       " 'Karnataka',\n",
       " 'Kerala',\n",
       " 'Ladakh',\n",
       " 'Lakshadweep',\n",
       " 'Madhya Pradesh',\n",
       " 'Maharashtra',\n",
       " 'Manipur',\n",
       " 'Meghalaya',\n",
       " 'Mizoram',\n",
       " 'Nagaland',\n",
       " 'Odisha',\n",
       " 'Puducherry',\n",
       " 'Punjab',\n",
       " 'Rajasthan',\n",
       " 'Sikkim',\n",
       " 'Tamil Nadu',\n",
       " 'Telangana',\n",
       " 'Tripura',\n",
       " 'Uttar Pradesh',\n",
       " 'Uttarakhand',\n",
       " 'West Bengal']"
      ]
     },
     "execution_count": 17,
     "metadata": {},
     "output_type": "execute_result"
    }
   ],
   "source": [
    "#pulse/data/map/insurance\n",
    "import os\n",
    "path = r\"C:/ProgramFiles/Projects/Phonepe_pulse/Miscellaneous/Pulse/data/map/insurance/hover/country/india/state/\"\n",
    "map_state_list=os.listdir(path)\n",
    "map_state_list"
   ]
  },
  {
   "cell_type": "code",
   "execution_count": 18,
   "metadata": {
    "id": "7ZsFqy_KUzPI"
   },
   "outputs": [],
   "source": [
    "#Once created the clone of GIT-HUB repository then,\n",
    "#Required libraries for the program\n",
    "\n",
    "import pandas as pd\n",
    "import json\n",
    "import os\n",
    "\n",
    "#This is to direct the path to get the data as states\n",
    "\n",
    "path = r\"C:/ProgramFiles/Projects/Phonepe_pulse/Miscellaneous/Pulse/data/map/insurance/hover/country/india/state/\"\n",
    "map_state_list=os.listdir(path)\n",
    "map_state_list\n",
    "#map_state_list--> to get the list of states in India\n",
    "\n",
    "#<------------------------------------------------------------------------------------------------------------------------------------------------------------------------------------------------------------>#\n",
    "\n",
    "#This is to extract the data's to create a dataframe\n",
    "\n",
    "clm={'State':[], 'Year':[],'Quater':[],'Insurance_type':[], 'Insurance_count':[], 'Insurance_amount':[]}\n",
    "\n",
    "for i in map_state_list:\n",
    "    p_i=path+i+\"/\"\n",
    "    map_yr=os.listdir(p_i)\n",
    "    for j in map_yr:\n",
    "        p_j=p_i+j+\"/\"\n",
    "        map_yr_list=os.listdir(p_j)\n",
    "        for k in map_yr_list:\n",
    "            p_k=p_j+k\n",
    "            Data=open(p_k,'r')\n",
    "            D=json.load(Data)\n",
    "            for z in D['data']['hoverDataList']:\n",
    "              Name=z['name']\n",
    "              count=z['metric'][0]['count']\n",
    "              amount=z['metric'][0]['amount']\n",
    "              clm['Insurance_type'].append(Name)\n",
    "              clm['Insurance_count'].append(count)\n",
    "              clm['Insurance_amount'].append(amount)\n",
    "              clm['State'].append(i)\n",
    "              clm['Year'].append(j)\n",
    "              clm['Quater'].append(int(k.strip('.json')))\n",
    "#Succesfully created a dataframe\n",
    "Map_Insur=pd.DataFrame(clm)"
   ]
  },
  {
   "cell_type": "code",
   "execution_count": 19,
   "metadata": {
    "colab": {
     "base_uri": "https://localhost:8080/",
     "height": 423
    },
    "id": "QV322HytUzam",
    "outputId": "eacc9f6b-ae5a-46e2-8536-cafa02fb43eb"
   },
   "outputs": [
    {
     "data": {
      "text/html": [
       "<div>\n",
       "<style scoped>\n",
       "    .dataframe tbody tr th:only-of-type {\n",
       "        vertical-align: middle;\n",
       "    }\n",
       "\n",
       "    .dataframe tbody tr th {\n",
       "        vertical-align: top;\n",
       "    }\n",
       "\n",
       "    .dataframe thead th {\n",
       "        text-align: right;\n",
       "    }\n",
       "</style>\n",
       "<table border=\"1\" class=\"dataframe\">\n",
       "  <thead>\n",
       "    <tr style=\"text-align: right;\">\n",
       "      <th></th>\n",
       "      <th>State</th>\n",
       "      <th>Year</th>\n",
       "      <th>Quater</th>\n",
       "      <th>Insurance_type</th>\n",
       "      <th>Insurance_count</th>\n",
       "      <th>Insurance_amount</th>\n",
       "    </tr>\n",
       "  </thead>\n",
       "  <tbody>\n",
       "    <tr>\n",
       "      <th>0</th>\n",
       "      <td>Andaman and Nicobar Islands</td>\n",
       "      <td>2020</td>\n",
       "      <td>2</td>\n",
       "      <td>south andaman district</td>\n",
       "      <td>3</td>\n",
       "      <td>795.0</td>\n",
       "    </tr>\n",
       "    <tr>\n",
       "      <th>1</th>\n",
       "      <td>Andaman and Nicobar Islands</td>\n",
       "      <td>2020</td>\n",
       "      <td>2</td>\n",
       "      <td>nicobars district</td>\n",
       "      <td>3</td>\n",
       "      <td>565.0</td>\n",
       "    </tr>\n",
       "    <tr>\n",
       "      <th>2</th>\n",
       "      <td>Andaman and Nicobar Islands</td>\n",
       "      <td>2020</td>\n",
       "      <td>3</td>\n",
       "      <td>north and middle andaman district</td>\n",
       "      <td>1</td>\n",
       "      <td>281.0</td>\n",
       "    </tr>\n",
       "    <tr>\n",
       "      <th>3</th>\n",
       "      <td>Andaman and Nicobar Islands</td>\n",
       "      <td>2020</td>\n",
       "      <td>3</td>\n",
       "      <td>south andaman district</td>\n",
       "      <td>35</td>\n",
       "      <td>13651.0</td>\n",
       "    </tr>\n",
       "    <tr>\n",
       "      <th>4</th>\n",
       "      <td>Andaman and Nicobar Islands</td>\n",
       "      <td>2020</td>\n",
       "      <td>3</td>\n",
       "      <td>nicobars district</td>\n",
       "      <td>5</td>\n",
       "      <td>1448.0</td>\n",
       "    </tr>\n",
       "    <tr>\n",
       "      <th>...</th>\n",
       "      <td>...</td>\n",
       "      <td>...</td>\n",
       "      <td>...</td>\n",
       "      <td>...</td>\n",
       "      <td>...</td>\n",
       "      <td>...</td>\n",
       "    </tr>\n",
       "    <tr>\n",
       "      <th>13871</th>\n",
       "      <td>West Bengal</td>\n",
       "      <td>2024</td>\n",
       "      <td>4</td>\n",
       "      <td>alipurduar district</td>\n",
       "      <td>1023</td>\n",
       "      <td>1613143.0</td>\n",
       "    </tr>\n",
       "    <tr>\n",
       "      <th>13872</th>\n",
       "      <td>West Bengal</td>\n",
       "      <td>2024</td>\n",
       "      <td>4</td>\n",
       "      <td>paschim bardhaman district</td>\n",
       "      <td>4945</td>\n",
       "      <td>7005851.0</td>\n",
       "    </tr>\n",
       "    <tr>\n",
       "      <th>13873</th>\n",
       "      <td>West Bengal</td>\n",
       "      <td>2024</td>\n",
       "      <td>4</td>\n",
       "      <td>nadia district</td>\n",
       "      <td>3807</td>\n",
       "      <td>5031294.0</td>\n",
       "    </tr>\n",
       "    <tr>\n",
       "      <th>13874</th>\n",
       "      <td>West Bengal</td>\n",
       "      <td>2024</td>\n",
       "      <td>4</td>\n",
       "      <td>birbhum district</td>\n",
       "      <td>1818</td>\n",
       "      <td>2423290.0</td>\n",
       "    </tr>\n",
       "    <tr>\n",
       "      <th>13875</th>\n",
       "      <td>West Bengal</td>\n",
       "      <td>2024</td>\n",
       "      <td>4</td>\n",
       "      <td>purba medinipur district</td>\n",
       "      <td>3559</td>\n",
       "      <td>4439061.0</td>\n",
       "    </tr>\n",
       "  </tbody>\n",
       "</table>\n",
       "<p>13876 rows × 6 columns</p>\n",
       "</div>"
      ],
      "text/plain": [
       "                             State  Year  Quater  \\\n",
       "0      Andaman and Nicobar Islands  2020       2   \n",
       "1      Andaman and Nicobar Islands  2020       2   \n",
       "2      Andaman and Nicobar Islands  2020       3   \n",
       "3      Andaman and Nicobar Islands  2020       3   \n",
       "4      Andaman and Nicobar Islands  2020       3   \n",
       "...                            ...   ...     ...   \n",
       "13871                  West Bengal  2024       4   \n",
       "13872                  West Bengal  2024       4   \n",
       "13873                  West Bengal  2024       4   \n",
       "13874                  West Bengal  2024       4   \n",
       "13875                  West Bengal  2024       4   \n",
       "\n",
       "                          Insurance_type  Insurance_count  Insurance_amount  \n",
       "0                 south andaman district                3             795.0  \n",
       "1                      nicobars district                3             565.0  \n",
       "2      north and middle andaman district                1             281.0  \n",
       "3                 south andaman district               35           13651.0  \n",
       "4                      nicobars district                5            1448.0  \n",
       "...                                  ...              ...               ...  \n",
       "13871                alipurduar district             1023         1613143.0  \n",
       "13872         paschim bardhaman district             4945         7005851.0  \n",
       "13873                     nadia district             3807         5031294.0  \n",
       "13874                   birbhum district             1818         2423290.0  \n",
       "13875           purba medinipur district             3559         4439061.0  \n",
       "\n",
       "[13876 rows x 6 columns]"
      ]
     },
     "execution_count": 19,
     "metadata": {},
     "output_type": "execute_result"
    }
   ],
   "source": [
    "Map_Insur"
   ]
  },
  {
   "cell_type": "code",
   "execution_count": 20,
   "metadata": {
    "colab": {
     "base_uri": "https://localhost:8080/"
    },
    "id": "T3Tbn-d2by8j",
    "outputId": "d827045d-fd34-433b-a0e8-1f0b9f3c8776"
   },
   "outputs": [
    {
     "name": "stdout",
     "output_type": "stream",
     "text": [
      "CSV file 'Map_Insur.csv' saved successfully!\n"
     ]
    }
   ],
   "source": [
    "# Save the DataFrame as a CSV file\n",
    "Map_Insur.to_csv(\"Map_Insur.csv\", index=False)\n",
    "\n",
    "print(\"CSV file 'Map_Insur.csv' saved successfully!\")\n"
   ]
  },
  {
   "cell_type": "code",
   "execution_count": 21,
   "metadata": {
    "colab": {
     "base_uri": "https://localhost:8080/"
    },
    "id": "vYU0LBq0Uzdf",
    "outputId": "13e8d396-b5a7-4f26-f30f-6bdb17213596"
   },
   "outputs": [
    {
     "data": {
      "text/plain": [
       "['Andaman and Nicobar Islands',\n",
       " 'Andhra Pradesh',\n",
       " 'Arunachal Pradesh',\n",
       " 'Assam',\n",
       " 'Bihar',\n",
       " 'Chandigarh',\n",
       " 'Chhattisgarh',\n",
       " 'Dadra and Nagar Haveli and Daman and Diu',\n",
       " 'Delhi',\n",
       " 'Goa',\n",
       " 'Gujarat',\n",
       " 'Haryana',\n",
       " 'Himachal Pradesh',\n",
       " 'Jammu and Kashmir',\n",
       " 'Jharkhand',\n",
       " 'Karnataka',\n",
       " 'Kerala',\n",
       " 'Ladakh',\n",
       " 'Lakshadweep',\n",
       " 'Madhya Pradesh',\n",
       " 'Maharashtra',\n",
       " 'Manipur',\n",
       " 'Meghalaya',\n",
       " 'Mizoram',\n",
       " 'Nagaland',\n",
       " 'Odisha',\n",
       " 'Puducherry',\n",
       " 'Punjab',\n",
       " 'Rajasthan',\n",
       " 'Sikkim',\n",
       " 'Tamil Nadu',\n",
       " 'Telangana',\n",
       " 'Tripura',\n",
       " 'Uttar Pradesh',\n",
       " 'Uttarakhand',\n",
       " 'West Bengal']"
      ]
     },
     "execution_count": 21,
     "metadata": {},
     "output_type": "execute_result"
    }
   ],
   "source": [
    "#pulse/data/map/transaction\n",
    "import os\n",
    "path = r\"C:/ProgramFiles/Projects/Phonepe_pulse/Miscellaneous/Pulse/data/map/insurance/hover/country/india/state/\"\n",
    "map_state_list=os.listdir(path)\n",
    "map_state_list"
   ]
  },
  {
   "cell_type": "code",
   "execution_count": 22,
   "metadata": {
    "id": "-PUEhxoRUzgb"
   },
   "outputs": [],
   "source": [
    "#Once created the clone of GIT-HUB repository then,\n",
    "#Required libraries for the program\n",
    "\n",
    "import pandas as pd\n",
    "import json\n",
    "import os\n",
    "\n",
    "#This is to direct the path to get the data as states\n",
    "\n",
    "path = r\"C:/ProgramFiles/Projects/Phonepe_pulse/Miscellaneous/Pulse/data/map/insurance/hover/country/india/state/\"\n",
    "map_state_list=os.listdir(path)\n",
    "map_state_list\n",
    "#map_state_list--> to get the list of states in India\n",
    "\n",
    "#<------------------------------------------------------------------------------------------------------------------------------------------------------------------------------------------------------------>#\n",
    "\n",
    "#This is to extract the data's to create a dataframe\n",
    "\n",
    "clm={'State':[], 'Year':[],'Quater':[],'Transaction_type':[], 'Transaction_count':[], 'Transaction_amount':[]}\n",
    "\n",
    "for i in map_state_list:\n",
    "    p_i=path+i+\"/\"\n",
    "    map_yr=os.listdir(p_i)\n",
    "    for j in map_yr:\n",
    "        p_j=p_i+j+\"/\"\n",
    "        map_yr_list=os.listdir(p_j)\n",
    "        for k in map_yr_list:\n",
    "            p_k=p_j+k\n",
    "            Data=open(p_k,'r')\n",
    "            D=json.load(Data)\n",
    "            for z in D['data']['hoverDataList']:\n",
    "              Name=z['name']\n",
    "              count=z['metric'][0]['count']\n",
    "              amount=z['metric'][0]['amount']\n",
    "              clm['Transaction_type'].append(Name)\n",
    "              clm['Transaction_count'].append(count)\n",
    "              clm['Transaction_amount'].append(amount)\n",
    "              clm['State'].append(i)\n",
    "              clm['Year'].append(j)\n",
    "              clm['Quater'].append(int(k.strip('.json')))\n",
    "#Succesfully created a dataframe\n",
    "Map_Trans=pd.DataFrame(clm)"
   ]
  },
  {
   "cell_type": "code",
   "execution_count": 23,
   "metadata": {
    "colab": {
     "base_uri": "https://localhost:8080/",
     "height": 423
    },
    "id": "zcTm_F5QUzj0",
    "outputId": "03017d7b-df9e-4fce-b029-e7afeadfcd28"
   },
   "outputs": [
    {
     "data": {
      "text/html": [
       "<div>\n",
       "<style scoped>\n",
       "    .dataframe tbody tr th:only-of-type {\n",
       "        vertical-align: middle;\n",
       "    }\n",
       "\n",
       "    .dataframe tbody tr th {\n",
       "        vertical-align: top;\n",
       "    }\n",
       "\n",
       "    .dataframe thead th {\n",
       "        text-align: right;\n",
       "    }\n",
       "</style>\n",
       "<table border=\"1\" class=\"dataframe\">\n",
       "  <thead>\n",
       "    <tr style=\"text-align: right;\">\n",
       "      <th></th>\n",
       "      <th>State</th>\n",
       "      <th>Year</th>\n",
       "      <th>Quater</th>\n",
       "      <th>Transaction_type</th>\n",
       "      <th>Transaction_count</th>\n",
       "      <th>Transaction_amount</th>\n",
       "    </tr>\n",
       "  </thead>\n",
       "  <tbody>\n",
       "    <tr>\n",
       "      <th>0</th>\n",
       "      <td>Andaman and Nicobar Islands</td>\n",
       "      <td>2020</td>\n",
       "      <td>2</td>\n",
       "      <td>south andaman district</td>\n",
       "      <td>3</td>\n",
       "      <td>795.0</td>\n",
       "    </tr>\n",
       "    <tr>\n",
       "      <th>1</th>\n",
       "      <td>Andaman and Nicobar Islands</td>\n",
       "      <td>2020</td>\n",
       "      <td>2</td>\n",
       "      <td>nicobars district</td>\n",
       "      <td>3</td>\n",
       "      <td>565.0</td>\n",
       "    </tr>\n",
       "    <tr>\n",
       "      <th>2</th>\n",
       "      <td>Andaman and Nicobar Islands</td>\n",
       "      <td>2020</td>\n",
       "      <td>3</td>\n",
       "      <td>north and middle andaman district</td>\n",
       "      <td>1</td>\n",
       "      <td>281.0</td>\n",
       "    </tr>\n",
       "    <tr>\n",
       "      <th>3</th>\n",
       "      <td>Andaman and Nicobar Islands</td>\n",
       "      <td>2020</td>\n",
       "      <td>3</td>\n",
       "      <td>south andaman district</td>\n",
       "      <td>35</td>\n",
       "      <td>13651.0</td>\n",
       "    </tr>\n",
       "    <tr>\n",
       "      <th>4</th>\n",
       "      <td>Andaman and Nicobar Islands</td>\n",
       "      <td>2020</td>\n",
       "      <td>3</td>\n",
       "      <td>nicobars district</td>\n",
       "      <td>5</td>\n",
       "      <td>1448.0</td>\n",
       "    </tr>\n",
       "    <tr>\n",
       "      <th>...</th>\n",
       "      <td>...</td>\n",
       "      <td>...</td>\n",
       "      <td>...</td>\n",
       "      <td>...</td>\n",
       "      <td>...</td>\n",
       "      <td>...</td>\n",
       "    </tr>\n",
       "    <tr>\n",
       "      <th>13871</th>\n",
       "      <td>West Bengal</td>\n",
       "      <td>2024</td>\n",
       "      <td>4</td>\n",
       "      <td>alipurduar district</td>\n",
       "      <td>1023</td>\n",
       "      <td>1613143.0</td>\n",
       "    </tr>\n",
       "    <tr>\n",
       "      <th>13872</th>\n",
       "      <td>West Bengal</td>\n",
       "      <td>2024</td>\n",
       "      <td>4</td>\n",
       "      <td>paschim bardhaman district</td>\n",
       "      <td>4945</td>\n",
       "      <td>7005851.0</td>\n",
       "    </tr>\n",
       "    <tr>\n",
       "      <th>13873</th>\n",
       "      <td>West Bengal</td>\n",
       "      <td>2024</td>\n",
       "      <td>4</td>\n",
       "      <td>nadia district</td>\n",
       "      <td>3807</td>\n",
       "      <td>5031294.0</td>\n",
       "    </tr>\n",
       "    <tr>\n",
       "      <th>13874</th>\n",
       "      <td>West Bengal</td>\n",
       "      <td>2024</td>\n",
       "      <td>4</td>\n",
       "      <td>birbhum district</td>\n",
       "      <td>1818</td>\n",
       "      <td>2423290.0</td>\n",
       "    </tr>\n",
       "    <tr>\n",
       "      <th>13875</th>\n",
       "      <td>West Bengal</td>\n",
       "      <td>2024</td>\n",
       "      <td>4</td>\n",
       "      <td>purba medinipur district</td>\n",
       "      <td>3559</td>\n",
       "      <td>4439061.0</td>\n",
       "    </tr>\n",
       "  </tbody>\n",
       "</table>\n",
       "<p>13876 rows × 6 columns</p>\n",
       "</div>"
      ],
      "text/plain": [
       "                             State  Year  Quater  \\\n",
       "0      Andaman and Nicobar Islands  2020       2   \n",
       "1      Andaman and Nicobar Islands  2020       2   \n",
       "2      Andaman and Nicobar Islands  2020       3   \n",
       "3      Andaman and Nicobar Islands  2020       3   \n",
       "4      Andaman and Nicobar Islands  2020       3   \n",
       "...                            ...   ...     ...   \n",
       "13871                  West Bengal  2024       4   \n",
       "13872                  West Bengal  2024       4   \n",
       "13873                  West Bengal  2024       4   \n",
       "13874                  West Bengal  2024       4   \n",
       "13875                  West Bengal  2024       4   \n",
       "\n",
       "                        Transaction_type  Transaction_count  \\\n",
       "0                 south andaman district                  3   \n",
       "1                      nicobars district                  3   \n",
       "2      north and middle andaman district                  1   \n",
       "3                 south andaman district                 35   \n",
       "4                      nicobars district                  5   \n",
       "...                                  ...                ...   \n",
       "13871                alipurduar district               1023   \n",
       "13872         paschim bardhaman district               4945   \n",
       "13873                     nadia district               3807   \n",
       "13874                   birbhum district               1818   \n",
       "13875           purba medinipur district               3559   \n",
       "\n",
       "       Transaction_amount  \n",
       "0                   795.0  \n",
       "1                   565.0  \n",
       "2                   281.0  \n",
       "3                 13651.0  \n",
       "4                  1448.0  \n",
       "...                   ...  \n",
       "13871           1613143.0  \n",
       "13872           7005851.0  \n",
       "13873           5031294.0  \n",
       "13874           2423290.0  \n",
       "13875           4439061.0  \n",
       "\n",
       "[13876 rows x 6 columns]"
      ]
     },
     "execution_count": 23,
     "metadata": {},
     "output_type": "execute_result"
    }
   ],
   "source": [
    "Map_Trans"
   ]
  },
  {
   "cell_type": "code",
   "execution_count": 24,
   "metadata": {
    "colab": {
     "base_uri": "https://localhost:8080/"
    },
    "id": "xq6s78Bnb-5x",
    "outputId": "661e34d9-ed97-4f30-8a63-d05e8fac4d3b"
   },
   "outputs": [
    {
     "name": "stdout",
     "output_type": "stream",
     "text": [
      "CSV file 'Map_Trans.csv' saved successfully!\n"
     ]
    }
   ],
   "source": [
    "# Save the DataFrame as a CSV file\n",
    "Map_Trans.to_csv(\"Map_Trans.csv\", index=False)\n",
    "\n",
    "print(\"CSV file 'Map_Trans.csv' saved successfully!\")\n"
   ]
  },
  {
   "cell_type": "code",
   "execution_count": 25,
   "metadata": {
    "colab": {
     "base_uri": "https://localhost:8080/"
    },
    "id": "iUucoDe2ZBm3",
    "outputId": "0ebf45fb-a6ed-49cb-e31b-033dcaeec400"
   },
   "outputs": [
    {
     "data": {
      "text/plain": [
       "['Andaman and Nicobar Islands',\n",
       " 'Andhra Pradesh',\n",
       " 'Arunachal Pradesh',\n",
       " 'Assam',\n",
       " 'Bihar',\n",
       " 'Chandigarh',\n",
       " 'Chhattisgarh',\n",
       " 'Dadra and Nagar Haveli and Daman and Diu',\n",
       " 'Delhi',\n",
       " 'Goa',\n",
       " 'Gujarat',\n",
       " 'Haryana',\n",
       " 'Himachal Pradesh',\n",
       " 'Jammu and Kashmir',\n",
       " 'Jharkhand',\n",
       " 'Karnataka',\n",
       " 'Kerala',\n",
       " 'Ladakh',\n",
       " 'Lakshadweep',\n",
       " 'Madhya Pradesh',\n",
       " 'Maharashtra',\n",
       " 'Manipur',\n",
       " 'Meghalaya',\n",
       " 'Mizoram',\n",
       " 'Nagaland',\n",
       " 'Odisha',\n",
       " 'Puducherry',\n",
       " 'Punjab',\n",
       " 'Rajasthan',\n",
       " 'Sikkim',\n",
       " 'Tamil Nadu',\n",
       " 'Telangana',\n",
       " 'Tripura',\n",
       " 'Uttar Pradesh',\n",
       " 'Uttarakhand',\n",
       " 'West Bengal']"
      ]
     },
     "execution_count": 25,
     "metadata": {},
     "output_type": "execute_result"
    }
   ],
   "source": [
    "#pulse/data/map/user\n",
    "import os\n",
    "path = r\"C:/ProgramFiles/Projects/Phonepe_pulse/Miscellaneous/Pulse/data/map/user/hover/country/india/state/\"\n",
    "map_state_list=os.listdir(path)\n",
    "map_state_list"
   ]
  },
  {
   "cell_type": "code",
   "execution_count": 26,
   "metadata": {
    "id": "GIu1pmrqZB3F"
   },
   "outputs": [],
   "source": [
    "import pandas as pd\n",
    "import json\n",
    "import os\n",
    "\n",
    "# This is to direct the path to get the data as states\n",
    "path = r\"C:/ProgramFiles/Projects/Phonepe_pulse/Miscellaneous/Pulse/data/map/user/hover/country/india/state/\"\n",
    "map_state_list = os.listdir(path)  # List of states in India\n",
    "\n",
    "# Extracting data to create a DataFrame\n",
    "clm = {'State': [], 'Year': [], 'Quater': [], 'Registered_Users': [], 'App_Opens': []}\n",
    "\n",
    "for i in map_state_list:\n",
    "    state_path = os.path.join(path, i)\n",
    "    for year in os.listdir(state_path):\n",
    "        year_path = os.path.join(state_path, year)\n",
    "        for quarter_file in os.listdir(year_path):\n",
    "            file_path = os.path.join(year_path, quarter_file)\n",
    "            try:\n",
    "                with open(file_path, 'r') as Data:\n",
    "                    D = json.load(Data)\n",
    "                    hover_data = D.get('data', {}).get('hoverData', {})\n",
    "\n",
    "                    for location, details in hover_data.items():\n",
    "                        clm['State'].append(i)\n",
    "                        clm['Year'].append(year)\n",
    "                        clm['Quater'].append(int(quarter_file.replace('.json', '')))\n",
    "                        clm['Registered_Users'].append(details.get('registeredUsers', 0))\n",
    "                        clm['App_Opens'].append(details.get('appOpens', 0))\n",
    "\n",
    "            except (KeyError, json.JSONDecodeError, TypeError) as e:\n",
    "                print(f\"Error processing file {file_path}: {e}\")\n",
    "                clm['State'].append(i)\n",
    "                clm['Year'].append(year)\n",
    "                clm['Quater'].append(int(quarter_file.replace('.json', '')))\n",
    "                clm['Registered_Users'].append(0)\n",
    "                clm['App_Opens'].append(0)\n",
    "\n",
    "# Successfully created a DataFrame\n",
    "Map_Users = pd.DataFrame(clm)"
   ]
  },
  {
   "cell_type": "code",
   "execution_count": 27,
   "metadata": {
    "colab": {
     "base_uri": "https://localhost:8080/",
     "height": 423
    },
    "id": "qVfU_VCiZB6W",
    "outputId": "75e8aa57-991c-4a21-c849-b043404eb27d"
   },
   "outputs": [
    {
     "data": {
      "text/html": [
       "<div>\n",
       "<style scoped>\n",
       "    .dataframe tbody tr th:only-of-type {\n",
       "        vertical-align: middle;\n",
       "    }\n",
       "\n",
       "    .dataframe tbody tr th {\n",
       "        vertical-align: top;\n",
       "    }\n",
       "\n",
       "    .dataframe thead th {\n",
       "        text-align: right;\n",
       "    }\n",
       "</style>\n",
       "<table border=\"1\" class=\"dataframe\">\n",
       "  <thead>\n",
       "    <tr style=\"text-align: right;\">\n",
       "      <th></th>\n",
       "      <th>State</th>\n",
       "      <th>Year</th>\n",
       "      <th>Quater</th>\n",
       "      <th>Registered_Users</th>\n",
       "      <th>App_Opens</th>\n",
       "    </tr>\n",
       "  </thead>\n",
       "  <tbody>\n",
       "    <tr>\n",
       "      <th>0</th>\n",
       "      <td>Andaman and Nicobar Islands</td>\n",
       "      <td>2018</td>\n",
       "      <td>1</td>\n",
       "      <td>632</td>\n",
       "      <td>0</td>\n",
       "    </tr>\n",
       "    <tr>\n",
       "      <th>1</th>\n",
       "      <td>Andaman and Nicobar Islands</td>\n",
       "      <td>2018</td>\n",
       "      <td>1</td>\n",
       "      <td>5846</td>\n",
       "      <td>0</td>\n",
       "    </tr>\n",
       "    <tr>\n",
       "      <th>2</th>\n",
       "      <td>Andaman and Nicobar Islands</td>\n",
       "      <td>2018</td>\n",
       "      <td>1</td>\n",
       "      <td>262</td>\n",
       "      <td>0</td>\n",
       "    </tr>\n",
       "    <tr>\n",
       "      <th>3</th>\n",
       "      <td>Andaman and Nicobar Islands</td>\n",
       "      <td>2018</td>\n",
       "      <td>2</td>\n",
       "      <td>911</td>\n",
       "      <td>0</td>\n",
       "    </tr>\n",
       "    <tr>\n",
       "      <th>4</th>\n",
       "      <td>Andaman and Nicobar Islands</td>\n",
       "      <td>2018</td>\n",
       "      <td>2</td>\n",
       "      <td>8143</td>\n",
       "      <td>0</td>\n",
       "    </tr>\n",
       "    <tr>\n",
       "      <th>...</th>\n",
       "      <td>...</td>\n",
       "      <td>...</td>\n",
       "      <td>...</td>\n",
       "      <td>...</td>\n",
       "      <td>...</td>\n",
       "    </tr>\n",
       "    <tr>\n",
       "      <th>20603</th>\n",
       "      <td>West Bengal</td>\n",
       "      <td>2024</td>\n",
       "      <td>4</td>\n",
       "      <td>475688</td>\n",
       "      <td>31842355</td>\n",
       "    </tr>\n",
       "    <tr>\n",
       "      <th>20604</th>\n",
       "      <td>West Bengal</td>\n",
       "      <td>2024</td>\n",
       "      <td>4</td>\n",
       "      <td>1468252</td>\n",
       "      <td>80543469</td>\n",
       "    </tr>\n",
       "    <tr>\n",
       "      <th>20605</th>\n",
       "      <td>West Bengal</td>\n",
       "      <td>2024</td>\n",
       "      <td>4</td>\n",
       "      <td>1861738</td>\n",
       "      <td>98740305</td>\n",
       "    </tr>\n",
       "    <tr>\n",
       "      <th>20606</th>\n",
       "      <td>West Bengal</td>\n",
       "      <td>2024</td>\n",
       "      <td>4</td>\n",
       "      <td>1114220</td>\n",
       "      <td>73465525</td>\n",
       "    </tr>\n",
       "    <tr>\n",
       "      <th>20607</th>\n",
       "      <td>West Bengal</td>\n",
       "      <td>2024</td>\n",
       "      <td>4</td>\n",
       "      <td>1717074</td>\n",
       "      <td>108350777</td>\n",
       "    </tr>\n",
       "  </tbody>\n",
       "</table>\n",
       "<p>20608 rows × 5 columns</p>\n",
       "</div>"
      ],
      "text/plain": [
       "                             State  Year  Quater  Registered_Users  App_Opens\n",
       "0      Andaman and Nicobar Islands  2018       1               632          0\n",
       "1      Andaman and Nicobar Islands  2018       1              5846          0\n",
       "2      Andaman and Nicobar Islands  2018       1               262          0\n",
       "3      Andaman and Nicobar Islands  2018       2               911          0\n",
       "4      Andaman and Nicobar Islands  2018       2              8143          0\n",
       "...                            ...   ...     ...               ...        ...\n",
       "20603                  West Bengal  2024       4            475688   31842355\n",
       "20604                  West Bengal  2024       4           1468252   80543469\n",
       "20605                  West Bengal  2024       4           1861738   98740305\n",
       "20606                  West Bengal  2024       4           1114220   73465525\n",
       "20607                  West Bengal  2024       4           1717074  108350777\n",
       "\n",
       "[20608 rows x 5 columns]"
      ]
     },
     "execution_count": 27,
     "metadata": {},
     "output_type": "execute_result"
    }
   ],
   "source": [
    "Map_Users"
   ]
  },
  {
   "cell_type": "code",
   "execution_count": 28,
   "metadata": {
    "colab": {
     "base_uri": "https://localhost:8080/"
    },
    "id": "vihGX2Y0cLnK",
    "outputId": "dc39aaf1-db83-45b2-c9e4-d49459504194"
   },
   "outputs": [
    {
     "name": "stdout",
     "output_type": "stream",
     "text": [
      "CSV file 'Map_Users.csv' saved successfully!\n"
     ]
    }
   ],
   "source": [
    "# Save the DataFrame as a CSV file\n",
    "Map_Users.to_csv(\"Map_Users.csv\", index=False)\n",
    "\n",
    "print(\"CSV file 'Map_Users.csv' saved successfully!\")"
   ]
  },
  {
   "cell_type": "code",
   "execution_count": 29,
   "metadata": {
    "colab": {
     "base_uri": "https://localhost:8080/"
    },
    "id": "I6vgrofXZB9n",
    "outputId": "d2484f02-bc1c-4cba-d20b-a3703302fed5"
   },
   "outputs": [
    {
     "data": {
      "text/plain": [
       "['Andaman and Nicobar Islands',\n",
       " 'Andhra Pradesh',\n",
       " 'Arunachal Pradesh',\n",
       " 'Assam',\n",
       " 'Bihar',\n",
       " 'Chandigarh',\n",
       " 'Chhattisgarh',\n",
       " 'Dadra and Nagar Haveli and Daman and Diu',\n",
       " 'Delhi',\n",
       " 'Goa',\n",
       " 'Gujarat',\n",
       " 'Haryana',\n",
       " 'Himachal Pradesh',\n",
       " 'Jammu and Kashmir',\n",
       " 'Jharkhand',\n",
       " 'Karnataka',\n",
       " 'Kerala',\n",
       " 'Ladakh',\n",
       " 'Lakshadweep',\n",
       " 'Madhya Pradesh',\n",
       " 'Maharashtra',\n",
       " 'Manipur',\n",
       " 'Meghalaya',\n",
       " 'Mizoram',\n",
       " 'Nagaland',\n",
       " 'Odisha',\n",
       " 'Puducherry',\n",
       " 'Punjab',\n",
       " 'Rajasthan',\n",
       " 'Sikkim',\n",
       " 'Tamil Nadu',\n",
       " 'Telangana',\n",
       " 'Tripura',\n",
       " 'Uttar Pradesh',\n",
       " 'Uttarakhand',\n",
       " 'West Bengal']"
      ]
     },
     "execution_count": 29,
     "metadata": {},
     "output_type": "execute_result"
    }
   ],
   "source": [
    "#pulse/data/top/insurance\n",
    "import os\n",
    "path = r\"C:/ProgramFiles/Projects/Phonepe_pulse/Miscellaneous/Pulse/data/top/insurance/country/india/state/\"\n",
    "top_state_list=os.listdir(path)\n",
    "top_state_list"
   ]
  },
  {
   "cell_type": "code",
   "execution_count": 30,
   "metadata": {
    "id": "Py9eXFVprih8"
   },
   "outputs": [],
   "source": [
    "import pandas as pd\n",
    "import json\n",
    "import os\n",
    "\n",
    "# Path to the data\n",
    "path = r\"C:/ProgramFiles/Projects/Phonepe_pulse/Miscellaneous/Pulse/data/top/insurance/country/india/state/\"\n",
    "\n",
    "# Initialize DataFrame structure\n",
    "clm = {'State/District/Pincode': [], 'Year': [], 'Quater': [], 'Category': [], 'Insurance_count': [], 'Insurance_amount': []}\n",
    "\n",
    "# Loop through the available years\n",
    "for year in os.listdir(path):\n",
    "    year_path = os.path.join(path, year)\n",
    "\n",
    "    # Check if it's a valid directory\n",
    "    if not os.path.isdir(year_path):\n",
    "        continue\n",
    "\n",
    "    # Loop through all JSON files directly inside the Year folder\n",
    "    for file in os.listdir(year_path):\n",
    "        if file.endswith(\".json\"):\n",
    "            file_path = os.path.join(year_path, file)\n",
    "\n",
    "            with open(file_path, 'r') as Data:\n",
    "                D = json.load(Data)\n",
    "\n",
    "            # Extract state/district/pincode level data\n",
    "            for category in [\"states\", \"districts\", \"pincodes\"]:\n",
    "                if category in D[\"data\"]:\n",
    "                    for entry in D[\"data\"][category]:\n",
    "                        clm['State/District/Pincode'].append(entry[\"entityName\"])\n",
    "                        clm['Year'].append(year)\n",
    "                        clm['Quater'].append(int(file.strip('.json')))  # Extract quarter from filename\n",
    "                        clm['Category'].append(category)\n",
    "                        clm['Insurance_count'].append(entry[\"metric\"][\"count\"])\n",
    "                        clm['Insurance_amount'].append(entry[\"metric\"][\"amount\"])\n",
    "\n",
    "# Convert to DataFrame\n",
    "Top_Insur = pd.DataFrame(clm)\n"
   ]
  },
  {
   "cell_type": "code",
   "execution_count": 31,
   "metadata": {
    "colab": {
     "base_uri": "https://localhost:8080/",
     "height": 423
    },
    "id": "JpmDEsNMrila",
    "outputId": "cbef55e4-f425-47cf-eb1b-1187d65bdf2b"
   },
   "outputs": [
    {
     "data": {
      "text/html": [
       "<div>\n",
       "<style scoped>\n",
       "    .dataframe tbody tr th:only-of-type {\n",
       "        vertical-align: middle;\n",
       "    }\n",
       "\n",
       "    .dataframe tbody tr th {\n",
       "        vertical-align: top;\n",
       "    }\n",
       "\n",
       "    .dataframe thead th {\n",
       "        text-align: right;\n",
       "    }\n",
       "</style>\n",
       "<table border=\"1\" class=\"dataframe\">\n",
       "  <thead>\n",
       "    <tr style=\"text-align: right;\">\n",
       "      <th></th>\n",
       "      <th>State/District/Pincode</th>\n",
       "      <th>Year</th>\n",
       "      <th>Quater</th>\n",
       "      <th>Category</th>\n",
       "      <th>Insurance_count</th>\n",
       "      <th>Insurance_amount</th>\n",
       "    </tr>\n",
       "  </thead>\n",
       "  <tbody>\n",
       "  </tbody>\n",
       "</table>\n",
       "</div>"
      ],
      "text/plain": [
       "Empty DataFrame\n",
       "Columns: [State/District/Pincode, Year, Quater, Category, Insurance_count, Insurance_amount]\n",
       "Index: []"
      ]
     },
     "execution_count": 31,
     "metadata": {},
     "output_type": "execute_result"
    }
   ],
   "source": [
    "Top_Insur"
   ]
  },
  {
   "cell_type": "code",
   "execution_count": 32,
   "metadata": {
    "colab": {
     "base_uri": "https://localhost:8080/"
    },
    "id": "tfKB7-PkcczT",
    "outputId": "1f391ce5-1b20-44b4-a64a-518a46370e61"
   },
   "outputs": [
    {
     "name": "stdout",
     "output_type": "stream",
     "text": [
      "CSV file 'Top_Insur.csv' saved successfully!\n"
     ]
    }
   ],
   "source": [
    "# Save the DataFrame as a CSV file\n",
    "Top_Insur.to_csv(\"Top_Insur.csv\", index=False)\n",
    "\n",
    "print(\"CSV file 'Top_Insur.csv' saved successfully!\")\n"
   ]
  },
  {
   "cell_type": "code",
   "execution_count": 33,
   "metadata": {
    "colab": {
     "base_uri": "https://localhost:8080/"
    },
    "id": "2hAYiLXJucwe",
    "outputId": "09e3779a-2b4f-41e6-c5e4-9b99c54eefaf"
   },
   "outputs": [
    {
     "data": {
      "text/plain": [
       "['Andaman and Nicobar Islands',\n",
       " 'Andhra Pradesh',\n",
       " 'Arunachal Pradesh',\n",
       " 'Assam',\n",
       " 'Bihar',\n",
       " 'Chandigarh',\n",
       " 'Chhattisgarh',\n",
       " 'Dadra and Nagar Haveli and Daman and Diu',\n",
       " 'Delhi',\n",
       " 'Goa',\n",
       " 'Gujarat',\n",
       " 'Haryana',\n",
       " 'Himachal Pradesh',\n",
       " 'Jammu and Kashmir',\n",
       " 'Jharkhand',\n",
       " 'Karnataka',\n",
       " 'Kerala',\n",
       " 'Ladakh',\n",
       " 'Lakshadweep',\n",
       " 'Madhya Pradesh',\n",
       " 'Maharashtra',\n",
       " 'Manipur',\n",
       " 'Meghalaya',\n",
       " 'Mizoram',\n",
       " 'Nagaland',\n",
       " 'Odisha',\n",
       " 'Puducherry',\n",
       " 'Punjab',\n",
       " 'Rajasthan',\n",
       " 'Sikkim',\n",
       " 'Tamil Nadu',\n",
       " 'Telangana',\n",
       " 'Tripura',\n",
       " 'Uttar Pradesh',\n",
       " 'Uttarakhand',\n",
       " 'West Bengal']"
      ]
     },
     "execution_count": 33,
     "metadata": {},
     "output_type": "execute_result"
    }
   ],
   "source": [
    "#pulse/data/top/transaction\n",
    "import os\n",
    "path=r\"C:/ProgramFiles/Projects/Phonepe_pulse/Miscellaneous/Pulse/data/top/transaction/country/india/state/\"\n",
    "top_state_list=os.listdir(path)\n",
    "top_state_list"
   ]
  },
  {
   "cell_type": "code",
   "execution_count": 34,
   "metadata": {
    "id": "TRh1KcCLudDM"
   },
   "outputs": [],
   "source": [
    "import pandas as pd\n",
    "import json\n",
    "import os\n",
    "\n",
    "# Path to the data\n",
    "path=r\"C:/ProgramFiles/Projects/Phonepe_pulse/Miscellaneous/Pulse/data/top/transaction/country/india/state/\"\n",
    "\n",
    "# Initialize DataFrame structure\n",
    "clm = {'State/District/Pincode': [], 'Year': [], 'Quater': [], 'Category': [], 'Transaction_count': [], 'Transaction_amount': []}\n",
    "\n",
    "# Loop through the available years\n",
    "for year in os.listdir(path):\n",
    "    year_path = os.path.join(path, year)\n",
    "\n",
    "    # Check if it's a valid directory\n",
    "    if not os.path.isdir(year_path):\n",
    "        continue\n",
    "\n",
    "    # Loop through all JSON files directly inside the Year folder\n",
    "    for file in os.listdir(year_path):\n",
    "        if file.endswith(\".json\"):\n",
    "            file_path = os.path.join(year_path, file)\n",
    "\n",
    "            with open(file_path, 'r') as Data:\n",
    "                D = json.load(Data)\n",
    "\n",
    "            # Extract state/district/pincode level data\n",
    "            for category in [\"states\", \"districts\", \"pincodes\"]:\n",
    "                if category in D[\"data\"]:\n",
    "                    for entry in D[\"data\"][category]:\n",
    "                        clm['State/District/Pincode'].append(entry[\"entityName\"])\n",
    "                        clm['Year'].append(year)\n",
    "                        clm['Quater'].append(int(file.strip('.json')))  # Extract quarter from filename\n",
    "                        clm['Category'].append(category)\n",
    "                        clm['Transaction_count'].append(entry[\"metric\"][\"count\"])\n",
    "                        clm['Transaction_amount'].append(entry[\"metric\"][\"amount\"])\n",
    "\n",
    "# Convert to DataFrame\n",
    "Top_Trans = pd.DataFrame(clm)"
   ]
  },
  {
   "cell_type": "code",
   "execution_count": 35,
   "metadata": {
    "colab": {
     "base_uri": "https://localhost:8080/",
     "height": 423
    },
    "id": "l6Q9XZzSud5V",
    "outputId": "62acd49f-1df4-452c-d371-bda2b421ab10"
   },
   "outputs": [
    {
     "data": {
      "text/html": [
       "<div>\n",
       "<style scoped>\n",
       "    .dataframe tbody tr th:only-of-type {\n",
       "        vertical-align: middle;\n",
       "    }\n",
       "\n",
       "    .dataframe tbody tr th {\n",
       "        vertical-align: top;\n",
       "    }\n",
       "\n",
       "    .dataframe thead th {\n",
       "        text-align: right;\n",
       "    }\n",
       "</style>\n",
       "<table border=\"1\" class=\"dataframe\">\n",
       "  <thead>\n",
       "    <tr style=\"text-align: right;\">\n",
       "      <th></th>\n",
       "      <th>State/District/Pincode</th>\n",
       "      <th>Year</th>\n",
       "      <th>Quater</th>\n",
       "      <th>Category</th>\n",
       "      <th>Transaction_count</th>\n",
       "      <th>Transaction_amount</th>\n",
       "    </tr>\n",
       "  </thead>\n",
       "  <tbody>\n",
       "  </tbody>\n",
       "</table>\n",
       "</div>"
      ],
      "text/plain": [
       "Empty DataFrame\n",
       "Columns: [State/District/Pincode, Year, Quater, Category, Transaction_count, Transaction_amount]\n",
       "Index: []"
      ]
     },
     "execution_count": 35,
     "metadata": {},
     "output_type": "execute_result"
    }
   ],
   "source": [
    "Top_Trans"
   ]
  },
  {
   "cell_type": "code",
   "execution_count": 36,
   "metadata": {
    "colab": {
     "base_uri": "https://localhost:8080/"
    },
    "id": "wCovWUd6cwlI",
    "outputId": "0a4514a4-0864-484f-c108-11efa5decbdf"
   },
   "outputs": [
    {
     "name": "stdout",
     "output_type": "stream",
     "text": [
      "CSV file 'Top_Trans.csv' saved successfully!\n"
     ]
    }
   ],
   "source": [
    "# Save the DataFrame as a CSV file\n",
    "Top_Trans.to_csv(\"Top_Trans.csv\", index=False)\n",
    "\n",
    "print(\"CSV file 'Top_Trans.csv' saved successfully!\")"
   ]
  },
  {
   "cell_type": "code",
   "execution_count": 37,
   "metadata": {
    "colab": {
     "base_uri": "https://localhost:8080/"
    },
    "id": "qi4iSQGvueOL",
    "outputId": "2e547e7b-2949-44d3-830d-b3317b7f69b8"
   },
   "outputs": [
    {
     "data": {
      "text/plain": [
       "['Andaman and Nicobar Islands',\n",
       " 'Andhra Pradesh',\n",
       " 'Arunachal Pradesh',\n",
       " 'Assam',\n",
       " 'Bihar',\n",
       " 'Chandigarh',\n",
       " 'Chhattisgarh',\n",
       " 'Dadra and Nagar Haveli and Daman and Diu',\n",
       " 'Delhi',\n",
       " 'Goa',\n",
       " 'Gujarat',\n",
       " 'Haryana',\n",
       " 'Himachal Pradesh',\n",
       " 'Jammu and Kashmir',\n",
       " 'Jharkhand',\n",
       " 'Karnataka',\n",
       " 'Kerala',\n",
       " 'Ladakh',\n",
       " 'Lakshadweep',\n",
       " 'Madhya Pradesh',\n",
       " 'Maharashtra',\n",
       " 'Manipur',\n",
       " 'Meghalaya',\n",
       " 'Mizoram',\n",
       " 'Nagaland',\n",
       " 'Odisha',\n",
       " 'Puducherry',\n",
       " 'Punjab',\n",
       " 'Rajasthan',\n",
       " 'Sikkim',\n",
       " 'Tamil Nadu',\n",
       " 'Telangana',\n",
       " 'Tripura',\n",
       " 'Uttar Pradesh',\n",
       " 'Uttarakhand',\n",
       " 'West Bengal']"
      ]
     },
     "execution_count": 37,
     "metadata": {},
     "output_type": "execute_result"
    }
   ],
   "source": [
    "#pulse/data/top/user\n",
    "import os\n",
    "path=r\"C:/ProgramFiles/Projects/Phonepe_pulse/Miscellaneous/Pulse/data/top/user/country/india/state/\"\n",
    "top_state_list=os.listdir(path)\n",
    "top_state_list"
   ]
  },
  {
   "cell_type": "code",
   "execution_count": 38,
   "metadata": {
    "id": "f6GAOy4rysD8"
   },
   "outputs": [],
   "source": [
    "import pandas as pd\n",
    "import json\n",
    "import os\n",
    "\n",
    "# Define the path to user registration data\n",
    "path=r\"C:/ProgramFiles/Projects/Phonepe_pulse/Miscellaneous/Pulse/data/top/user/country/india/state/\"\n",
    "user_state_list = os.listdir(path)\n",
    "\n",
    "# Dictionary to store extracted data\n",
    "clm = {'State/District/Pincode': [], 'Year': [], 'Quarter': [], 'Registered_Users': []}\n",
    "\n",
    "for state in user_state_list:\n",
    "    state_path = os.path.join(path, state)\n",
    "    years = os.listdir(state_path)\n",
    "\n",
    "    for year in years:\n",
    "        year_path = os.path.join(state_path, year)\n",
    "        quarters = os.listdir(year_path)\n",
    "\n",
    "        for quarter in quarters:\n",
    "            quarter_path = os.path.join(year_path, quarter)\n",
    "\n",
    "            # Read JSON file\n",
    "            with open(quarter_path, 'r') as data_file:\n",
    "                D = json.load(data_file)\n",
    "\n",
    "            # Ensure 'data' exists before accessing its keys\n",
    "            if 'data' in D and D['data']:\n",
    "\n",
    "                # Process state-level data\n",
    "                if 'states' in D['data'] and D['data']['states']:\n",
    "                    for state_data in D['data']['states']:\n",
    "                        clm['State/District/Pincode'].append(state_data.get('name', 'Unknown'))\n",
    "                        clm['Registered_Users'].append(state_data.get('registeredUsers', 0))\n",
    "                        clm['Year'].append(year)\n",
    "                        clm['Quarter'].append(int(quarter.strip('.json')))\n",
    "\n",
    "                # Process district-level data\n",
    "                if 'districts' in D['data'] and D['data']['districts']:\n",
    "                    for district_data in D['data']['districts']:\n",
    "                        clm['State/District/Pincode'].append(district_data.get('name', 'Unknown'))\n",
    "                        clm['Registered_Users'].append(district_data.get('registeredUsers', 0))\n",
    "                        clm['Year'].append(year)\n",
    "                        clm['Quarter'].append(int(quarter.strip('.json')))\n",
    "\n",
    "                # Process pincode-level data\n",
    "                if 'pincodes' in D['data'] and D['data']['pincodes']:\n",
    "                    for pincode_data in D['data']['pincodes']:\n",
    "                        clm['State/District/Pincode'].append(pincode_data.get('name', 'Unknown'))\n",
    "                        clm['Registered_Users'].append(pincode_data.get('registeredUsers', 0))\n",
    "                        clm['Year'].append(year)\n",
    "                        clm['Quarter'].append(int(quarter.strip('.json')))\n",
    "\n",
    "# Convert dictionary to DataFrame\n",
    "Top_Users = pd.DataFrame(clm)\n"
   ]
  },
  {
   "cell_type": "code",
   "execution_count": 39,
   "metadata": {
    "colab": {
     "base_uri": "https://localhost:8080/",
     "height": 423
    },
    "id": "vB2ik71by-Fe",
    "outputId": "b895de10-51b2-4124-f2eb-f0270b577235"
   },
   "outputs": [
    {
     "data": {
      "text/html": [
       "<div>\n",
       "<style scoped>\n",
       "    .dataframe tbody tr th:only-of-type {\n",
       "        vertical-align: middle;\n",
       "    }\n",
       "\n",
       "    .dataframe tbody tr th {\n",
       "        vertical-align: top;\n",
       "    }\n",
       "\n",
       "    .dataframe thead th {\n",
       "        text-align: right;\n",
       "    }\n",
       "</style>\n",
       "<table border=\"1\" class=\"dataframe\">\n",
       "  <thead>\n",
       "    <tr style=\"text-align: right;\">\n",
       "      <th></th>\n",
       "      <th>State/District/Pincode</th>\n",
       "      <th>Year</th>\n",
       "      <th>Quarter</th>\n",
       "      <th>Registered_Users</th>\n",
       "    </tr>\n",
       "  </thead>\n",
       "  <tbody>\n",
       "    <tr>\n",
       "      <th>0</th>\n",
       "      <td>south andaman</td>\n",
       "      <td>2018</td>\n",
       "      <td>1</td>\n",
       "      <td>5846</td>\n",
       "    </tr>\n",
       "    <tr>\n",
       "      <th>1</th>\n",
       "      <td>north and middle andaman</td>\n",
       "      <td>2018</td>\n",
       "      <td>1</td>\n",
       "      <td>632</td>\n",
       "    </tr>\n",
       "    <tr>\n",
       "      <th>2</th>\n",
       "      <td>nicobars</td>\n",
       "      <td>2018</td>\n",
       "      <td>1</td>\n",
       "      <td>262</td>\n",
       "    </tr>\n",
       "    <tr>\n",
       "      <th>3</th>\n",
       "      <td>744103</td>\n",
       "      <td>2018</td>\n",
       "      <td>1</td>\n",
       "      <td>1608</td>\n",
       "    </tr>\n",
       "    <tr>\n",
       "      <th>4</th>\n",
       "      <td>744101</td>\n",
       "      <td>2018</td>\n",
       "      <td>1</td>\n",
       "      <td>1108</td>\n",
       "    </tr>\n",
       "    <tr>\n",
       "      <th>...</th>\n",
       "      <td>...</td>\n",
       "      <td>...</td>\n",
       "      <td>...</td>\n",
       "      <td>...</td>\n",
       "    </tr>\n",
       "    <tr>\n",
       "      <th>18291</th>\n",
       "      <td>733134</td>\n",
       "      <td>2024</td>\n",
       "      <td>4</td>\n",
       "      <td>169596</td>\n",
       "    </tr>\n",
       "    <tr>\n",
       "      <th>18292</th>\n",
       "      <td>700059</td>\n",
       "      <td>2024</td>\n",
       "      <td>4</td>\n",
       "      <td>169448</td>\n",
       "    </tr>\n",
       "    <tr>\n",
       "      <th>18293</th>\n",
       "      <td>711302</td>\n",
       "      <td>2024</td>\n",
       "      <td>4</td>\n",
       "      <td>146034</td>\n",
       "    </tr>\n",
       "    <tr>\n",
       "      <th>18294</th>\n",
       "      <td>700150</td>\n",
       "      <td>2024</td>\n",
       "      <td>4</td>\n",
       "      <td>142151</td>\n",
       "    </tr>\n",
       "    <tr>\n",
       "      <th>18295</th>\n",
       "      <td>711106</td>\n",
       "      <td>2024</td>\n",
       "      <td>4</td>\n",
       "      <td>142077</td>\n",
       "    </tr>\n",
       "  </tbody>\n",
       "</table>\n",
       "<p>18296 rows × 4 columns</p>\n",
       "</div>"
      ],
      "text/plain": [
       "         State/District/Pincode  Year  Quarter  Registered_Users\n",
       "0                 south andaman  2018        1              5846\n",
       "1      north and middle andaman  2018        1               632\n",
       "2                      nicobars  2018        1               262\n",
       "3                        744103  2018        1              1608\n",
       "4                        744101  2018        1              1108\n",
       "...                         ...   ...      ...               ...\n",
       "18291                    733134  2024        4            169596\n",
       "18292                    700059  2024        4            169448\n",
       "18293                    711302  2024        4            146034\n",
       "18294                    700150  2024        4            142151\n",
       "18295                    711106  2024        4            142077\n",
       "\n",
       "[18296 rows x 4 columns]"
      ]
     },
     "execution_count": 39,
     "metadata": {},
     "output_type": "execute_result"
    }
   ],
   "source": [
    "Top_Users"
   ]
  },
  {
   "cell_type": "code",
   "execution_count": 40,
   "metadata": {
    "colab": {
     "base_uri": "https://localhost:8080/"
    },
    "id": "TPYaD-b_c89P",
    "outputId": "46aa2cb8-7dd8-4905-9618-7b1c80aebb8d"
   },
   "outputs": [
    {
     "name": "stdout",
     "output_type": "stream",
     "text": [
      "CSV file 'Top_Users.csv' saved successfully!\n"
     ]
    }
   ],
   "source": [
    "# Save the DataFrame as a CSV file\n",
    "Top_Users.to_csv(\"Top_Users.csv\", index=False)\n",
    "\n",
    "print(\"CSV file 'Top_Users.csv' saved successfully!\")"
   ]
  },
  {
   "cell_type": "markdown",
   "metadata": {
    "id": "2xWJ1HK2jFnn"
   },
   "source": [
    "# **Conclusion**"
   ]
  },
  {
   "cell_type": "markdown",
   "metadata": {
    "id": "phSw1lhUjTmw"
   },
   "source": [
    "The PhonePe Transaction Insights project successfully demonstrated the end-to-end data analytics pipeline – from data extraction and transformation to visualization and insight generation. By analyzing key transaction metrics, state/district-level trends, and insurance penetration, the project provides a comprehensive understanding of digital payment behavior across India. The integration of SQL, Python, Streamlit, and Power BI ensured both analytical depth and interactive presentation of insights, useful for both technical and business audiences."
   ]
  }
 ],
 "metadata": {
  "colab": {
   "provenance": []
  },
  "kernelspec": {
   "display_name": "Python 3",
   "name": "python3"
  },
  "language_info": {
   "codemirror_mode": {
    "name": "ipython",
    "version": 3
   },
   "file_extension": ".py",
   "mimetype": "text/x-python",
   "name": "python",
   "nbconvert_exporter": "python",
   "pygments_lexer": "ipython3",
   "version": "3.8.0"
  }
 },
 "nbformat": 4,
 "nbformat_minor": 0
}
